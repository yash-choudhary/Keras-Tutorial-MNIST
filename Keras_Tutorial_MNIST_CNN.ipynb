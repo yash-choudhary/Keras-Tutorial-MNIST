{
  "nbformat": 4,
  "nbformat_minor": 0,
  "metadata": {
    "colab": {
      "name": "Keras_Tutorial_MNIST_CNN.ipynb",
      "version": "0.3.2",
      "provenance": [],
      "collapsed_sections": [],
      "include_colab_link": true
    },
    "kernelspec": {
      "name": "python3",
      "display_name": "Python 3"
    },
    "accelerator": "GPU"
  },
  "cells": [
    {
      "cell_type": "markdown",
      "metadata": {
        "id": "view-in-github",
        "colab_type": "text"
      },
      "source": [
        "<a href=\"https://colab.research.google.com/github/yash-choudhary/Keras-Tutorial-MNIST/blob/master/Keras_Tutorial_MNIST_CNN.ipynb\" target=\"_parent\"><img src=\"https://colab.research.google.com/assets/colab-badge.svg\" alt=\"Open In Colab\"/></a>"
      ]
    },
    {
      "cell_type": "code",
      "metadata": {
        "id": "FhxNUtXuPSil",
        "colab_type": "code",
        "colab": {}
      },
      "source": [
        "import numpy\n",
        "import time\n",
        "from keras.datasets import mnist\n",
        "from keras.models import Sequential\n",
        "from keras.layers import Dense\n",
        "from keras.layers import Dropout\n",
        "from keras.layers import Flatten\n",
        "from keras.layers.convolutional import Conv2D\n",
        "from keras.layers.convolutional import MaxPooling2D\n",
        "from keras.utils import np_utils\n",
        "from keras import backend as K\n",
        "K.set_image_dim_ordering('th')"
      ],
      "execution_count": 0,
      "outputs": []
    },
    {
      "cell_type": "code",
      "metadata": {
        "id": "hX-QRsGiPr1k",
        "colab_type": "code",
        "colab": {}
      },
      "source": [
        "seed = 7\n",
        "numpy.random.seed(seed)"
      ],
      "execution_count": 0,
      "outputs": []
    },
    {
      "cell_type": "code",
      "metadata": {
        "id": "jBpipeZmPuqD",
        "colab_type": "code",
        "colab": {}
      },
      "source": [
        "(X_train, y_train), (X_test, y_test) = mnist.load_data()\n",
        "# reshape to be [samples][pixels][width][height]\n",
        "X_train = X_train.reshape(X_train.shape[0], 1, 28, 28).astype('float32')\n",
        "X_test = X_test.reshape(X_test.shape[0], 1, 28, 28).astype('float32')"
      ],
      "execution_count": 0,
      "outputs": []
    },
    {
      "cell_type": "code",
      "metadata": {
        "id": "vu8948BvdrDd",
        "colab_type": "code",
        "outputId": "f02a7783-d1c9-41ff-d4b6-7f5143f74611",
        "colab": {
          "base_uri": "https://localhost:8080/",
          "height": 34
        }
      },
      "source": [
        "X_train.shape"
      ],
      "execution_count": 0,
      "outputs": [
        {
          "output_type": "execute_result",
          "data": {
            "text/plain": [
              "(60000, 1, 28, 28)"
            ]
          },
          "metadata": {
            "tags": []
          },
          "execution_count": 37
        }
      ]
    },
    {
      "cell_type": "code",
      "metadata": {
        "id": "xvEpVvLsds4I",
        "colab_type": "code",
        "colab": {}
      },
      "source": [
        "X_train=X_train/255\n",
        "X_test=X_test/255\n",
        "\n",
        "# one hot encode outputs\n",
        "y_train = np_utils.to_categorical(y_train)\n",
        "y_test = np_utils.to_categorical(y_test)\n",
        "num_classes = y_test.shape[1]"
      ],
      "execution_count": 0,
      "outputs": []
    },
    {
      "cell_type": "code",
      "metadata": {
        "id": "GS1ZYvd3d4KH",
        "colab_type": "code",
        "colab": {}
      },
      "source": [
        "def conv_model():\n",
        "  model = Sequential()\n",
        "  model.add(Conv2D(32, (5, 5), input_shape=(1, 28, 28), activation='relu'))\n",
        "  model.add(MaxPooling2D(pool_size=(2, 2)))\n",
        "  model.add(Dropout(0.2))\n",
        "  model.add(Conv2D(32, (5, 5), input_shape=(1, 14, 14), activation='relu'))\n",
        "  model.add(MaxPooling2D(pool_size=(2, 2)))\n",
        "  model.add(Dropout(0.2))\n",
        "  model.add(Flatten())\n",
        "  model.add(Dense(128,activation='relu'))\n",
        "  model.add(Dense(num_classes, activation='softmax'))\n",
        "  model.compile(loss='categorical_crossentropy', optimizer='adam', metrics=['accuracy'])\n",
        "  return model"
      ],
      "execution_count": 0,
      "outputs": []
    },
    {
      "cell_type": "code",
      "metadata": {
        "id": "NkQ22lLaPVxv",
        "colab_type": "code",
        "outputId": "843ec6f7-3fbc-4ade-85d7-125ce313a85c",
        "colab": {
          "base_uri": "https://localhost:8080/",
          "height": 408
        }
      },
      "source": [
        "model = conv_model()\n",
        "start_time = time.time()\n",
        "model.fit(X_train,y_train,validation_data = (X_test,y_test),epochs=10,batch_size = 200,verbose = 2)\n",
        "end_time = time.time()\n",
        "print(\"Time taken = \",end_time-start_time)\n",
        "scores = model.evaluate(X_test,y_test,verbose = 0)\n",
        "print(\"Score = \",scores)"
      ],
      "execution_count": 0,
      "outputs": [
        {
          "output_type": "stream",
          "text": [
            "Train on 60000 samples, validate on 10000 samples\n",
            "Epoch 1/10\n",
            " - 2s - loss: 0.3188 - acc: 0.9037 - val_loss: 0.0741 - val_acc: 0.9777\n",
            "Epoch 2/10\n",
            " - 2s - loss: 0.0864 - acc: 0.9742 - val_loss: 0.0433 - val_acc: 0.9867\n",
            "Epoch 3/10\n",
            " - 2s - loss: 0.0627 - acc: 0.9805 - val_loss: 0.0329 - val_acc: 0.9894\n",
            "Epoch 4/10\n",
            " - 2s - loss: 0.0493 - acc: 0.9843 - val_loss: 0.0268 - val_acc: 0.9911\n",
            "Epoch 5/10\n",
            " - 2s - loss: 0.0420 - acc: 0.9867 - val_loss: 0.0243 - val_acc: 0.9921\n",
            "Epoch 6/10\n",
            " - 2s - loss: 0.0353 - acc: 0.9892 - val_loss: 0.0249 - val_acc: 0.9921\n",
            "Epoch 7/10\n",
            " - 2s - loss: 0.0309 - acc: 0.9901 - val_loss: 0.0220 - val_acc: 0.9926\n",
            "Epoch 8/10\n",
            " - 2s - loss: 0.0292 - acc: 0.9905 - val_loss: 0.0220 - val_acc: 0.9932\n",
            "Epoch 9/10\n",
            " - 2s - loss: 0.0251 - acc: 0.9920 - val_loss: 0.0187 - val_acc: 0.9942\n",
            "Epoch 10/10\n",
            " - 2s - loss: 0.0235 - acc: 0.9923 - val_loss: 0.0227 - val_acc: 0.9920\n",
            "Time taken =  19.439868688583374\n",
            "Score =  [0.022748999936936888, 0.992]\n"
          ],
          "name": "stdout"
        }
      ]
    },
    {
      "cell_type": "code",
      "metadata": {
        "id": "YnLaks4nU06H",
        "colab_type": "code",
        "colab": {}
      },
      "source": [
        ""
      ],
      "execution_count": 0,
      "outputs": []
    },
    {
      "cell_type": "code",
      "metadata": {
        "id": "W76spUEaWTtD",
        "colab_type": "code",
        "colab": {}
      },
      "source": [
        ""
      ],
      "execution_count": 0,
      "outputs": []
    }
  ]
}