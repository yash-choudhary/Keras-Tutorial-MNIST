{
  "nbformat": 4,
  "nbformat_minor": 0,
  "metadata": {
    "colab": {
      "name": "Keras_Tutorial_MNIST_sequential.ipynb",
      "version": "0.3.2",
      "provenance": [],
      "collapsed_sections": [],
      "include_colab_link": true
    },
    "kernelspec": {
      "name": "python3",
      "display_name": "Python 3"
    },
    "accelerator": "GPU"
  },
  "cells": [
    {
      "cell_type": "markdown",
      "metadata": {
        "id": "view-in-github",
        "colab_type": "text"
      },
      "source": [
        "<a href=\"https://colab.research.google.com/github/yash-choudhary/Keras-Tutorial-MNIST/blob/master/Keras_Tutorial_MNIST_sequential.ipynb\" target=\"_parent\"><img src=\"https://colab.research.google.com/assets/colab-badge.svg\" alt=\"Open In Colab\"/></a>"
      ]
    },
    {
      "cell_type": "code",
      "metadata": {
        "id": "h8g3z7hNGRd1",
        "colab_type": "code",
        "outputId": "1c1d6e5e-115d-44dd-bb24-cdd9b5623084",
        "colab": {
          "base_uri": "https://localhost:8080/",
          "height": 34
        }
      },
      "source": [
        "import numpy\n",
        "from keras.models import Sequential\n",
        "from keras.layers import Dense\n",
        "from keras.layers import Dropout\n",
        "from keras.utils import np_utils\n",
        "import pandas as pd"
      ],
      "execution_count": 0,
      "outputs": [
        {
          "output_type": "stream",
          "text": [
            "Using TensorFlow backend.\n"
          ],
          "name": "stderr"
        }
      ]
    },
    {
      "cell_type": "code",
      "metadata": {
        "id": "XO5cdSh0Egkc",
        "colab_type": "code",
        "colab": {}
      },
      "source": [
        "import tensorflow as tf\n",
        "from keras.datasets import mnist\n",
        "import matplotlib.pyplot as plt"
      ],
      "execution_count": 0,
      "outputs": []
    },
    {
      "cell_type": "code",
      "metadata": {
        "id": "wJMV1GVAFTy4",
        "colab_type": "code",
        "outputId": "32b7035a-5cec-494d-9b2d-ab996e49f539",
        "colab": {
          "base_uri": "https://localhost:8080/",
          "height": 51
        }
      },
      "source": [
        "(xtrain,ytrain),(xtest,ytest) = mnist.load_data()"
      ],
      "execution_count": 0,
      "outputs": [
        {
          "output_type": "stream",
          "text": [
            "Downloading data from https://s3.amazonaws.com/img-datasets/mnist.npz\n",
            "11493376/11490434 [==============================] - 1s 0us/step\n"
          ],
          "name": "stdout"
        }
      ]
    },
    {
      "cell_type": "code",
      "metadata": {
        "id": "Q2kedJvLFmBo",
        "colab_type": "code",
        "outputId": "33148d70-300c-43f9-cd9b-b7bf6b556c37",
        "colab": {
          "base_uri": "https://localhost:8080/",
          "height": 269
        }
      },
      "source": [
        "plt.subplot(221)\n",
        "plt.imshow(xtrain[0], cmap=plt.get_cmap('gray'))\n",
        "plt.subplot(222)\n",
        "plt.imshow(xtrain[1], cmap=plt.get_cmap('gray'))\n",
        "plt.subplot(223)\n",
        "plt.imshow(xtrain[2], cmap=plt.get_cmap('gray'))\n",
        "plt.subplot(224)\n",
        "plt.imshow(xtrain[3], cmap=plt.get_cmap('gray'))\n",
        "plt.show()"
      ],
      "execution_count": 0,
      "outputs": [
        {
          "output_type": "display_data",
          "data": {
            "image/png": "[encoded data removed]",
            "text/plain": [
              "<Figure size 432x288 with 4 Axes>"
            ]
          },
          "metadata": {
            "tags": []
          }
        }
      ]
    },
    {
      "cell_type": "code",
      "metadata": {
        "id": "Ifp-P34BFwNj",
        "colab_type": "code",
        "colab": {}
      },
      "source": [
        "seed=7\n",
        "numpy.random.seed(seed)"
      ],
      "execution_count": 0,
      "outputs": []
    },
    {
      "cell_type": "code",
      "metadata": {
        "id": "oLpoSKD3Gcy0",
        "colab_type": "code",
        "colab": {}
      },
      "source": [
        "num_pixels = xtrain.shape[1]*xtrain.shape[2]\n",
        "xtrain = xtrain.reshape(xtrain.shape[0], num_pixels).astype('float32')\n",
        "xtest = xtest.reshape(xtest.shape[0], num_pixels).astype('float32')"
      ],
      "execution_count": 0,
      "outputs": []
    },
    {
      "cell_type": "code",
      "metadata": {
        "id": "pE1M6kLoGwif",
        "colab_type": "code",
        "colab": {}
      },
      "source": [
        "#normalize \n",
        "xtrain = xtrain/255\n",
        "xtest = xtest/255"
      ],
      "execution_count": 0,
      "outputs": []
    },
    {
      "cell_type": "code",
      "metadata": {
        "id": "PhcGbtbzHpEZ",
        "colab_type": "code",
        "colab": {}
      },
      "source": [
        "ytrain = np_utils.to_categorical(ytrain)\n",
        "ytest = np_utils.to_categorical(ytest)"
      ],
      "execution_count": 0,
      "outputs": []
    },
    {
      "cell_type": "code",
      "metadata": {
        "id": "yOjqg4lmICCu",
        "colab_type": "code",
        "colab": {}
      },
      "source": [
        "num_classes = ytrain.shape[1]"
      ],
      "execution_count": 0,
      "outputs": []
    },
    {
      "cell_type": "code",
      "metadata": {
        "id": "M7dhWUu3j6Wb",
        "colab_type": "code",
        "outputId": "9945db85-b55e-45d2-cffc-c2116654f582",
        "colab": {
          "base_uri": "https://localhost:8080/",
          "height": 34
        }
      },
      "source": [
        "num_pixels"
      ],
      "execution_count": 0,
      "outputs": [
        {
          "output_type": "execute_result",
          "data": {
            "text/plain": [
              "784"
            ]
          },
          "metadata": {
            "tags": []
          },
          "execution_count": 13
        }
      ]
    },
    {
      "cell_type": "code",
      "metadata": {
        "id": "3NUZ5WFsIHYX",
        "colab_type": "code",
        "colab": {}
      },
      "source": [
        "#baseline sequential model with one input and one output layer.\n",
        "def baseline_model():\n",
        "  model = Sequential()\n",
        "  model.add(Dense(num_pixels,input_dim = num_pixels,kernel_initializer='normal',activation='relu'))\n",
        "  model.add(Dense(num_classes,kernel_initializer='normal',activation='softmax'))\n",
        "  model.compile(loss='categorical_crossentropy', optimizer='adam', metrics=['accuracy'])\n",
        "  return model"
      ],
      "execution_count": 0,
      "outputs": []
    },
    {
      "cell_type": "code",
      "metadata": {
        "id": "fEsCCPaCINXs",
        "colab_type": "code",
        "outputId": "cd286300-a048-4788-c24f-de72b16c5cb8",
        "colab": {
          "base_uri": "https://localhost:8080/",
          "height": 513
        }
      },
      "source": [
        "model = baseline_model()\n",
        "model.fit(xtrain,ytrain,validation_data = (xtest,ytest),epochs=10, batch_size=200, verbose=2)\n",
        "scores = model.evaluate(xtest,ytest,verbose=2)\n",
        "print(\"BaseLine Model: %.2f%%\" % (100-scores[1]*100))"
      ],
      "execution_count": 0,
      "outputs": [
        {
          "output_type": "stream",
          "text": [
            "WARNING:tensorflow:From /usr/local/lib/python3.6/dist-packages/tensorflow/python/framework/op_def_library.py:263: colocate_with (from tensorflow.python.framework.ops) is deprecated and will be removed in a future version.\n",
            "Instructions for updating:\n",
            "Colocations handled automatically by placer.\n",
            "WARNING:tensorflow:From /usr/local/lib/python3.6/dist-packages/tensorflow/python/ops/math_ops.py:3066: to_int32 (from tensorflow.python.ops.math_ops) is deprecated and will be removed in a future version.\n",
            "Instructions for updating:\n",
            "Use tf.cast instead.\n",
            "Train on 60000 samples, validate on 10000 samples\n",
            "Epoch 1/10\n",
            " - 3s - loss: 0.2783 - acc: 0.9210 - val_loss: 0.1412 - val_acc: 0.9575\n",
            "Epoch 2/10\n",
            " - 1s - loss: 0.1116 - acc: 0.9676 - val_loss: 0.0925 - val_acc: 0.9701\n",
            "Epoch 3/10\n",
            " - 1s - loss: 0.0718 - acc: 0.9799 - val_loss: 0.0784 - val_acc: 0.9771\n",
            "Epoch 4/10\n",
            " - 1s - loss: 0.0506 - acc: 0.9857 - val_loss: 0.0742 - val_acc: 0.9771\n",
            "Epoch 5/10\n",
            " - 1s - loss: 0.0375 - acc: 0.9892 - val_loss: 0.0679 - val_acc: 0.9789\n",
            "Epoch 6/10\n",
            " - 1s - loss: 0.0270 - acc: 0.9928 - val_loss: 0.0636 - val_acc: 0.9806\n",
            "Epoch 7/10\n",
            " - 1s - loss: 0.0210 - acc: 0.9947 - val_loss: 0.0627 - val_acc: 0.9814\n",
            "Epoch 8/10\n",
            " - 1s - loss: 0.0141 - acc: 0.9969 - val_loss: 0.0633 - val_acc: 0.9795\n",
            "Epoch 9/10\n",
            " - 1s - loss: 0.0110 - acc: 0.9978 - val_loss: 0.0592 - val_acc: 0.9814\n",
            "Epoch 10/10\n",
            " - 1s - loss: 0.0080 - acc: 0.9985 - val_loss: 0.0582 - val_acc: 0.9809\n",
            "BaseLine Model: 1.91%\n"
          ],
          "name": "stdout"
        }
      ]
    },
    {
      "cell_type": "code",
      "metadata": {
        "id": "yoxMSJIoNYaC",
        "colab_type": "code",
        "colab": {}
      },
      "source": [
        ""
      ],
      "execution_count": 0,
      "outputs": []
    }
  ]
}